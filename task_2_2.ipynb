{
 "cells": [
  {
   "cell_type": "code",
   "execution_count": 2,
   "metadata": {},
   "outputs": [],
   "source": [
    "import gzip\n",
    "import re\n",
    "import numpy as np\n",
    "from gensim.models import Word2Vec\n",
    "from sklearn.model_selection import train_test_split\n",
    "from sklearn.svm import SVC\n",
    "from dataclasses import dataclass\n",
    "from typing import Iterator, List\n",
    "from sklearn.feature_extraction.text import TfidfVectorizer"
   ]
  },
  {
   "cell_type": "code",
   "execution_count": 3,
   "metadata": {},
   "outputs": [],
   "source": [
    "@dataclass\n",
    "class Text:\n",
    "    label: str\n",
    "    title: str\n",
    "    text: str\n",
    "\n",
    "def read_texts(fn: str=\"data/news.txt.gz\") -> Iterator[Text]:\n",
    "    with gzip.open(fn, \"rt\", encoding=\"utf-8\") as f:\n",
    "        for line in f:\n",
    "            yield Text(*line.strip().split(\"\\t\"))\n",
    "\n",
    "def tokenize_text(text: str) -> List[str]:\n",
    "    text = text.lower()\n",
    "    words = re.findall(r'\\b\\w+\\b', text.lower())\n",
    "    return words\n",
    "\n",
    "def normalize_text(text: str) -> str:\n",
    "    return ' '.join(tokenize_text(text))\n"
   ]
  },
  {
   "cell_type": "code",
   "execution_count": 4,
   "metadata": {},
   "outputs": [],
   "source": [
    "# Функция для усреднения векторов\n",
    "def average_word_vectors(words, model, vocabulary, num_features):\n",
    "    feature_vector = np.zeros((num_features,), dtype=\"float32\")\n",
    "    nwords = 0\n",
    "\n",
    "    for word in words:\n",
    "        if word in vocabulary: \n",
    "            nwords += 1\n",
    "            feature_vector = np.add(feature_vector, model.wv[word])\n",
    "\n",
    "    if nwords:\n",
    "        feature_vector = np.divide(feature_vector, nwords)\n",
    "    return feature_vector\n",
    "\n",
    "def averaged_word_vectorizer(corpus, model, num_features):\n",
    "    vocabulary = set(model.wv.index_to_key)\n",
    "    features = [average_word_vectors(tokenized_sentence, model, vocabulary, num_features) for tokenized_sentence in corpus]\n",
    "    return np.array(features)\n"
   ]
  },
  {
   "cell_type": "code",
   "execution_count": 5,
   "metadata": {},
   "outputs": [],
   "source": [
    "def tfidf_weighted_averaged_word_vectorizer(corpus, tfidf_vectors, tfidf_vocabulary, model, num_features):\n",
    "    doc_word_vector = np.zeros((len(corpus), num_features), dtype=\"float32\")\n",
    "    for idx, tokenized_sentence in enumerate(corpus):\n",
    "        for word in tokenized_sentence:\n",
    "            if word in model.wv.key_to_index and word in tfidf_vocabulary:\n",
    "                word_vector = model.wv[word]\n",
    "                tfidf_weight = tfidf_vectors[idx][tfidf_vocabulary[word]]\n",
    "                doc_word_vector[idx] = np.add(doc_word_vector[idx], word_vector * tfidf_weight)\n",
    "    return np.divide(doc_word_vector, len(corpus))\n"
   ]
  },
  {
   "cell_type": "code",
   "execution_count": 22,
   "metadata": {},
   "outputs": [],
   "source": [
    "# Чтение данных\n",
    "texts = list(read_texts(\"data/news.txt.gz\"))\n",
    "sentences = [tokenize_text(text.text) for text in texts]\n",
    "\n",
    "# Обучение Word2Vec\n",
    "w2v = Word2Vec(sentences, vector_size=100, window=5, min_count=1, workers=4)\n"
   ]
  },
  {
   "cell_type": "code",
   "execution_count": 23,
   "metadata": {},
   "outputs": [
    {
     "name": "stdout",
     "output_type": "stream",
     "text": [
      "Точность классификации на обычных векторах: 0.66\n"
     ]
    }
   ],
   "source": [
    "# Усреднение векторов для каждого документа\n",
    "w2v_feature_array = averaged_word_vectorizer(corpus=sentences, model=w2v, num_features=100)\n",
    "\n",
    "# Разделение на обучающую и тестовую выборки\n",
    "y = [text.label for text in texts]\n",
    "\n",
    "X_train, X_test, y_train, y_test = train_test_split(w2v_feature_array, y, test_size=0.3, random_state=42)\n",
    "\n",
    "# Обучение модели SVM на обычных векторах\n",
    "svc = SVC()\n",
    "svc.fit(X_train, y_train)\n",
    "accuracy = svc.score(X_test, y_test)\n",
    "print(f\"Точность классификации на обычных векторах: {accuracy}\")\n"
   ]
  },
  {
   "cell_type": "markdown",
   "metadata": {},
   "source": [
    "Первый альтернативный способ представления документов: TF-IDF взвешенные векторы"
   ]
  },
  {
   "cell_type": "code",
   "execution_count": 24,
   "metadata": {},
   "outputs": [],
   "source": [
    "vectorizer = TfidfVectorizer(max_df=0.2, min_df=10)\n",
    "X_tfidf = vectorizer.fit_transform([normalize_text(text.text) for text in texts]).toarray()"
   ]
  },
  {
   "cell_type": "code",
   "execution_count": 25,
   "metadata": {},
   "outputs": [
    {
     "name": "stdout",
     "output_type": "stream",
     "text": [
      "Точность классификации на TF-IDF взвешенных векторах: 0.6816666666666666\n"
     ]
    }
   ],
   "source": [
    "tfidf_feature_array = tfidf_weighted_averaged_word_vectorizer(corpus=sentences, tfidf_vectors=X_tfidf, tfidf_vocabulary=vectorizer.vocabulary_, model=w2v, num_features=100)\n",
    "\n",
    "# Разделение на обучающую и тестовую выборки для TF-IDF взвешенных векторов\n",
    "X_train_tfidf, X_test_tfidf, y_train_tfidf, y_test_tfidf = train_test_split(tfidf_feature_array, y, test_size=0.3, random_state=42)\n",
    "\n",
    "# Обучение модели SVM на TF-IDF взвешенных векторах\n",
    "svc_tfidf = SVC()\n",
    "svc_tfidf.fit(X_train_tfidf, y_train_tfidf)\n",
    "accuracy_tfidf = svc_tfidf.score(X_test_tfidf, y_test_tfidf)\n",
    "print(f\"Точность классификации на TF-IDF взвешенных векторах: {accuracy_tfidf}\")"
   ]
  },
  {
   "cell_type": "markdown",
   "metadata": {},
   "source": [
    "Второй альтернативный метод: Doc2Vec"
   ]
  },
  {
   "cell_type": "code",
   "execution_count": 26,
   "metadata": {},
   "outputs": [
    {
     "name": "stdout",
     "output_type": "stream",
     "text": [
      "Точность классификации с Doc2Vec: 0.822\n"
     ]
    }
   ],
   "source": [
    "from gensim.models.doc2vec import Doc2Vec, TaggedDocument\n",
    "\n",
    "# Подготовка данных для Doc2Vec\n",
    "tagged_data = [TaggedDocument(words=tokenize_text(text.text), tags=[i]) for i, text in enumerate(texts)]\n",
    "\n",
    "# Обучение модели Doc2Vec\n",
    "doc2vec_model = Doc2Vec(vector_size=100, window=5, min_count=1, workers=4, epochs=40)\n",
    "doc2vec_model.build_vocab(tagged_data)\n",
    "doc2vec_model.train(tagged_data, total_examples=doc2vec_model.corpus_count, epochs=doc2vec_model.epochs)\n",
    "\n",
    "# Получение векторов для каждого документа\n",
    "doc_vectors = np.array([doc2vec_model.dv[i] for i in range(len(tagged_data))])\n",
    "\n",
    "# Разделение на обучающую и тестовую выборки\n",
    "X_train_doc2vec, X_test_doc2vec, y_train_doc2vec, y_test_doc2vec = train_test_split(doc_vectors, y, test_size=0.3, random_state=42)\n",
    "\n",
    "# Обучение и тестирование SVM\n",
    "svc_doc2vec = SVC()\n",
    "svc_doc2vec.fit(X_train_doc2vec, y_train_doc2vec)\n",
    "accuracy_doc2vec = svc_doc2vec.score(X_test_doc2vec, y_test_doc2vec)\n",
    "print(f\"Точность классификации с Doc2Vec: {accuracy_doc2vec}\")\n"
   ]
  },
  {
   "cell_type": "markdown",
   "metadata": {},
   "source": [
    "Третий альтернативный способ: n-gramms"
   ]
  },
  {
   "cell_type": "code",
   "execution_count": 6,
   "metadata": {},
   "outputs": [
    {
     "name": "stdout",
     "output_type": "stream",
     "text": [
      "Точность классификации с использованием n-грамм и PCA: 0.845\n"
     ]
    }
   ],
   "source": [
    "from sklearn.feature_extraction.text import TfidfVectorizer\n",
    "from sklearn.model_selection import train_test_split\n",
    "from sklearn.svm import SVC\n",
    "from sklearn.decomposition import PCA\n",
    "\n",
    "# Подготовка текстов и их предобработка\n",
    "texts = list(read_texts(\"data/news.txt.gz\"))\n",
    "processed_texts = [normalize_text(text.text) for text in texts]\n",
    "\n",
    "# Создание n-грамм\n",
    "ngram_vectorizer = TfidfVectorizer(max_df=0.2, min_df=10, ngram_range=(1, 2))  # Использование униграмм и биграмм\n",
    "X_ngram = ngram_vectorizer.fit_transform(processed_texts).toarray()\n",
    "\n",
    "# Разделение на обучающую и тестовую выборки\n",
    "y = [text.label for text in texts]\n",
    "X_train_ngram, X_test_ngram, y_train_ngram, y_test_ngram = train_test_split(X_ngram, y, test_size=0.3, random_state=42)\n",
    "\n",
    "# Применение PCA для уменьшения размерности\n",
    "pca = PCA(n_components=0.95)  # сохраняем 95% вариативности\n",
    "X_train_ngram_pca = pca.fit_transform(X_train_ngram)\n",
    "X_test_ngram_pca = pca.transform(X_test_ngram)\n",
    "\n",
    "# Обучение и тестирование SVM\n",
    "svc_ngram = SVC()\n",
    "svc_ngram.fit(X_train_ngram_pca, y_train_ngram)\n",
    "accuracy_ngram = svc_ngram.score(X_test_ngram_pca, y_test_ngram)\n",
    "print(f\"Точность классификации с использованием n-грамм и PCA: {accuracy_ngram}\")\n"
   ]
  }
 ],
 "metadata": {
  "kernelspec": {
   "display_name": "venv",
   "language": "python",
   "name": "python3"
  },
  "language_info": {
   "codemirror_mode": {
    "name": "ipython",
    "version": 3
   },
   "file_extension": ".py",
   "mimetype": "text/x-python",
   "name": "python",
   "nbconvert_exporter": "python",
   "pygments_lexer": "ipython3",
   "version": "3.9.13"
  }
 },
 "nbformat": 4,
 "nbformat_minor": 2
}
